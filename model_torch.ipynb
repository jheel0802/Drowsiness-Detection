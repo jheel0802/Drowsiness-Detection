{
 "cells": [
  {
   "cell_type": "code",
   "execution_count": 27,
   "metadata": {},
   "outputs": [],
   "source": [
    "import os\n",
    "import torch\n",
    "import torch.nn as nn\n",
    "import torch.optim as optim\n",
    "from torch.utils.data import DataLoader\n",
    "from torchvision import transforms\n",
    "from torchvision.datasets import ImageFolder\n",
    "import torch.nn.functional as F"
   ]
  },
  {
   "cell_type": "code",
   "execution_count": 28,
   "metadata": {},
   "outputs": [],
   "source": [
    "# Define the custom dataset class\n",
    "class CustomDataset(torch.utils.data.Dataset):\n",
    "    def __init__(self, root_dir, transform=None):\n",
    "        self.dataset = ImageFolder(root_dir, transform=transform)\n",
    "\n",
    "    def __len__(self):\n",
    "        return len(self.dataset)\n",
    "\n",
    "    def __getitem__(self, idx):\n",
    "        return self.dataset[idx]"
   ]
  },
  {
   "cell_type": "code",
   "execution_count": 29,
   "metadata": {},
   "outputs": [],
   "source": [
    "# Define the CNN model\n",
    "class CNNModel(nn.Module):\n",
    "    def __init__(self):\n",
    "        super(CNNModel, self).__init__()\n",
    "        self.conv1 = nn.Conv2d(1, 32, kernel_size=3, padding=1)\n",
    "        self.pool1 = nn.MaxPool2d(kernel_size=2, stride=2)\n",
    "        self.conv2 = nn.Conv2d(32, 64, kernel_size=3, padding=1)\n",
    "        self.pool2 = nn.MaxPool2d(kernel_size=2, stride=2)\n",
    "        self.dropout = nn.Dropout2d(0.25)\n",
    "        self.flatten = nn.Flatten()\n",
    "        self.fc1 = nn.Linear(64 * 6 * 6, 128)\n",
    "        self.dropout_fc = nn.Dropout(0.5)\n",
    "        self.fc2 = nn.Linear(128, 3)  # Adjusted for 3 classes\n",
    "        self.softmax = nn.Softmax(dim=1)\n",
    "\n",
    "    def forward(self, x):\n",
    "        x = self.pool1(F.relu(self.conv1(x)))\n",
    "        x = self.pool2(F.relu(self.conv2(x)))\n",
    "        x = self.dropout(x)\n",
    "        x = self.flatten(x)\n",
    "        x = F.relu(self.fc1(x))\n",
    "        x = self.dropout_fc(x)\n",
    "        x = self.fc2(x)\n",
    "        x = self.softmax(x)\n",
    "        return x"
   ]
  },
  {
   "cell_type": "code",
   "execution_count": 31,
   "metadata": {},
   "outputs": [
    {
     "name": "stdout",
     "output_type": "stream",
     "text": [
      "cpu\n"
     ]
    }
   ],
   "source": [
    "# Set device\n",
    "device = torch.device(\"cuda\" if torch.cuda.is_available() else \"cpu\")\n",
    "print(device)"
   ]
  },
  {
   "cell_type": "code",
   "execution_count": 32,
   "metadata": {},
   "outputs": [],
   "source": [
    "# Data transformations\n",
    "transform = transforms.Compose([transforms.Grayscale(num_output_channels=1),\n",
    "                                transforms.Resize((24, 24)),\n",
    "                                transforms.ToTensor()])"
   ]
  },
  {
   "cell_type": "code",
   "execution_count": 33,
   "metadata": {},
   "outputs": [],
   "source": [
    "# Create custom datasets\n",
    "train_dataset = CustomDataset(root_dir='data/train', transform=transform)\n",
    "valid_dataset = CustomDataset(root_dir='data/valid', transform=transform)\n",
    "\n",
    "# Create data loaders\n",
    "train_loader = DataLoader(dataset=train_dataset, batch_size=32, shuffle=True)\n",
    "valid_loader = DataLoader(dataset=valid_dataset, batch_size=32, shuffle=True)"
   ]
  },
  {
   "cell_type": "code",
   "execution_count": 34,
   "metadata": {},
   "outputs": [],
   "source": [
    "# Initialize the model, loss function, and optimizer\n",
    "model = CNNModel().to(device)\n",
    "criterion = nn.CrossEntropyLoss()\n",
    "optimizer = optim.Adam(model.parameters(), lr=0.001)"
   ]
  },
  {
   "cell_type": "code",
   "execution_count": 35,
   "metadata": {},
   "outputs": [
    {
     "name": "stdout",
     "output_type": "stream",
     "text": [
      "tensor([3, 2, 1, 1, 2, 3, 0, 1, 3, 0, 3, 2, 1, 2, 3, 2, 2, 2, 2, 2, 2, 0, 0, 0,\n",
      "        2, 0, 1, 1, 2, 1, 1, 2])\n"
     ]
    }
   ],
   "source": [
    "print(labels)"
   ]
  },
  {
   "cell_type": "code",
   "execution_count": 36,
   "metadata": {},
   "outputs": [
    {
     "name": "stdout",
     "output_type": "stream",
     "text": [
      "tensor([[0.3644, 0.3104, 0.3252],\n",
      "        [0.3593, 0.3167, 0.3241],\n",
      "        [0.3648, 0.3123, 0.3229],\n",
      "        [0.3563, 0.3013, 0.3424],\n",
      "        [0.3619, 0.3192, 0.3189],\n",
      "        [0.3450, 0.3151, 0.3399],\n",
      "        [0.3622, 0.3093, 0.3286],\n",
      "        [0.3696, 0.2961, 0.3344],\n",
      "        [0.3423, 0.3314, 0.3263],\n",
      "        [0.3668, 0.2970, 0.3363],\n",
      "        [0.3477, 0.3357, 0.3165],\n",
      "        [0.3730, 0.3144, 0.3126],\n",
      "        [0.3460, 0.3072, 0.3468],\n",
      "        [0.3445, 0.3095, 0.3460],\n",
      "        [0.3583, 0.3205, 0.3212],\n",
      "        [0.3530, 0.3057, 0.3413],\n",
      "        [0.3591, 0.3088, 0.3321],\n",
      "        [0.3658, 0.3052, 0.3291],\n",
      "        [0.3689, 0.2984, 0.3328],\n",
      "        [0.3608, 0.3106, 0.3286],\n",
      "        [0.3711, 0.3039, 0.3250],\n",
      "        [0.3789, 0.2907, 0.3304],\n",
      "        [0.3654, 0.3052, 0.3294],\n",
      "        [0.3443, 0.3230, 0.3326],\n",
      "        [0.3586, 0.3075, 0.3339],\n",
      "        [0.3597, 0.3149, 0.3255],\n",
      "        [0.3673, 0.3095, 0.3232],\n",
      "        [0.3593, 0.3001, 0.3406],\n",
      "        [0.3539, 0.3003, 0.3459],\n",
      "        [0.3646, 0.3168, 0.3187],\n",
      "        [0.3710, 0.3069, 0.3222],\n",
      "        [0.3548, 0.2997, 0.3455]], grad_fn=<SoftmaxBackward0>)\n"
     ]
    }
   ],
   "source": [
    "print (outputs)"
   ]
  },
  {
   "cell_type": "code",
   "execution_count": 37,
   "metadata": {},
   "outputs": [
    {
     "name": "stdout",
     "output_type": "stream",
     "text": [
      "Epoch 1/15, Validation Accuracy: 0.5727\n",
      "Epoch 2/15, Validation Accuracy: 0.6859\n",
      "Epoch 3/15, Validation Accuracy: 0.7044\n",
      "Epoch 4/15, Validation Accuracy: 0.7159\n",
      "Epoch 5/15, Validation Accuracy: 0.7275\n",
      "Epoch 6/15, Validation Accuracy: 0.7298\n",
      "Epoch 7/15, Validation Accuracy: 0.7206\n",
      "Epoch 8/15, Validation Accuracy: 0.7229\n",
      "Epoch 9/15, Validation Accuracy: 0.7321\n",
      "Epoch 10/15, Validation Accuracy: 0.7321\n",
      "Epoch 11/15, Validation Accuracy: 0.7206\n",
      "Epoch 12/15, Validation Accuracy: 0.7229\n",
      "Epoch 13/15, Validation Accuracy: 0.7252\n",
      "Epoch 14/15, Validation Accuracy: 0.7252\n",
      "Epoch 15/15, Validation Accuracy: 0.7344\n"
     ]
    }
   ],
   "source": [
    "# Training loop\n",
    "epochs = 15\n",
    "for epoch in range(epochs):\n",
    "    model.train()\n",
    "    for images, labels in train_loader:\n",
    "        images, labels = images.to(device), labels.to(device)\n",
    "\n",
    "        # Adjust labels to be within the valid range\n",
    "        labels = torch.clamp(labels, max=2)\n",
    "\n",
    "        optimizer.zero_grad()\n",
    "        outputs = model(images)\n",
    "        loss = criterion(outputs, labels)\n",
    "        loss.backward()\n",
    "        optimizer.step()\n",
    "\n",
    "    # Validation loop\n",
    "    model.eval()\n",
    "    with torch.no_grad():\n",
    "        correct = 0\n",
    "        total = 0\n",
    "        for images, labels in valid_loader:\n",
    "            images, labels = images.to(device), labels.to(device)\n",
    "            outputs = model(images)\n",
    "            _, predicted = torch.max(outputs.data, 1)\n",
    "            total += labels.size(0)\n",
    "            correct += (predicted == labels).sum().item()\n",
    "\n",
    "    accuracy = correct / total\n",
    "    print(f'Epoch {epoch+1}/{epochs}, Validation Accuracy: {accuracy:.4f}')"
   ]
  },
  {
   "cell_type": "code",
   "execution_count": 38,
   "metadata": {},
   "outputs": [],
   "source": [
    "#save the model\n",
    "torch.save(model.state_dict(), 'model.pth')"
   ]
  }
 ],
 "metadata": {
  "kernelspec": {
   "display_name": "Python 3",
   "language": "python",
   "name": "python3"
  },
  "language_info": {
   "codemirror_mode": {
    "name": "ipython",
    "version": 3
   },
   "file_extension": ".py",
   "mimetype": "text/x-python",
   "name": "python",
   "nbconvert_exporter": "python",
   "pygments_lexer": "ipython3",
   "version": "3.11.2"
  }
 },
 "nbformat": 4,
 "nbformat_minor": 2
}
